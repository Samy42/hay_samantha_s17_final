{
 "cells": [
  {
   "cell_type": "markdown",
   "metadata": {},
   "source": [
    "# Most Popular Team Names"
   ]
  },
  {
   "cell_type": "code",
   "execution_count": 1,
   "metadata": {
    "collapsed": false
   },
   "outputs": [],
   "source": [
    "import numpy\n",
    "import pandas\n",
    "from matplotlib import pyplot as plt\n",
    "import json\n",
    "import time\n",
    "from glob import glob\n",
    "import ast\n",
    "from collections import Counter\n",
    "from nltk.corpus import stopwords"
   ]
  },
  {
   "cell_type": "code",
   "execution_count": 2,
   "metadata": {
    "collapsed": true
   },
   "outputs": [],
   "source": [
    "files = glob('./data/teams/*')"
   ]
  },
  {
   "cell_type": "code",
   "execution_count": 3,
   "metadata": {
    "collapsed": false
   },
   "outputs": [],
   "source": [
    "teams = []\n",
    "for file in files:\n",
    "    with open(file,\"r\",encoding='utf8') as f:\n",
    "        text = f.readlines()\n",
    "        text = ast.literal_eval(text[0])\n",
    "        teams.append(text)"
   ]
  },
  {
   "cell_type": "code",
   "execution_count": 4,
   "metadata": {
    "collapsed": false
   },
   "outputs": [],
   "source": [
    "names = []\n",
    "\n",
    "for t in range(len(teams)):\n",
    "    name = teams[t]['nickname']\n",
    "    \n",
    "    if name is not None:\n",
    "        names.extend(name.split())"
   ]
  },
  {
   "cell_type": "code",
   "execution_count": 5,
   "metadata": {
    "collapsed": false
   },
   "outputs": [],
   "source": [
    "for w in range(len(names)):\n",
    "    names[w] = names[w].lower()"
   ]
  },
  {
   "cell_type": "code",
   "execution_count": 6,
   "metadata": {
    "collapsed": false
   },
   "outputs": [],
   "source": [
    "stopwords = list(stopwords.words())\n",
    "punctuation = ['.',',',':',';','\\'','?','!','-','[',']','(',')','{','}','/','#','...',\"'\",'\"','*','***']\n",
    "\n",
    "for w in names: \n",
    "        if w in stopwords or w in punctuation:\n",
    "            names.remove(w)"
   ]
  },
  {
   "cell_type": "code",
   "execution_count": 7,
   "metadata": {
    "collapsed": false
   },
   "outputs": [
    {
     "data": {
      "text/plain": [
       "[('robotics', 695),\n",
       " ('team', 240),\n",
       " ('bots', 88),\n",
       " ('high', 74),\n",
       " ('school', 71),\n",
       " ('robo', 67),\n",
       " ('eagles', 65),\n",
       " ('tech', 64),\n",
       " ('knights', 50),\n",
       " ('warriors', 48)]"
      ]
     },
     "execution_count": 7,
     "metadata": {},
     "output_type": "execute_result"
    }
   ],
   "source": [
    "c = Counter(names)\n",
    "topnames = c.most_common(10)\n",
    "topnames"
   ]
  },
  {
   "cell_type": "code",
   "execution_count": 8,
   "metadata": {
    "collapsed": false
   },
   "outputs": [
    {
     "data": {
      "text/plain": [
       "21"
      ]
     },
     "execution_count": 8,
     "metadata": {},
     "output_type": "execute_result"
    }
   ],
   "source": [
    "c['force']"
   ]
  },
  {
   "cell_type": "code",
   "execution_count": 9,
   "metadata": {
    "collapsed": false
   },
   "outputs": [
    {
     "data": {
      "text/plain": [
       "240"
      ]
     },
     "execution_count": 9,
     "metadata": {},
     "output_type": "execute_result"
    }
   ],
   "source": [
    "topnames[1][1]"
   ]
  },
  {
   "cell_type": "code",
   "execution_count": 10,
   "metadata": {
    "collapsed": false
   },
   "outputs": [],
   "source": [
    "x = [ topnames[i][1] for i in range(len(topnames))]\n",
    "y = [topnames[i][0] for i in range(len(topnames))]"
   ]
  },
  {
   "cell_type": "code",
   "execution_count": 13,
   "metadata": {
    "collapsed": false
   },
   "outputs": [
    {
     "data": {
      "image/png": "[encoded data removed]",
      "text/plain": [
       "<matplotlib.figure.Figure at 0x21a4c019f60>"
      ]
     },
     "metadata": {},
     "output_type": "display_data"
    }
   ],
   "source": [
    "#plt.xticks(y)\n",
    "\n",
    "y_pos = numpy.arange(len(y))\n",
    "\n",
    " \n",
    "plt.bar(y_pos, x, align='center', alpha=0.5)\n",
    "plt.xticks(y_pos, y)\n",
    "plt.xticks(rotation=70)\n",
    "plt.ylabel('Number of Teams')\n",
    "plt.title('Top Names of Robotics Teams')\n",
    "\n",
    "plt.show()"
   ]
  },
  {
   "cell_type": "code",
   "execution_count": 12,
   "metadata": {
    "collapsed": false
   },
   "outputs": [
    {
     "name": "stdout",
     "output_type": "stream",
     "text": [
      "grease epsilon bean\n"
     ]
    }
   ],
   "source": [
    "print(names[round(numpy.random.uniform(low=0, high = len(names)))] + \" \" +\n",
    "      names[round(numpy.random.uniform(low=0, high = len(names)))] + \" \" +\n",
    "      names[round(numpy.random.uniform(low=0, high = len(names)))])"
   ]
  }
 ],
 "metadata": {
  "anaconda-cloud": {},
  "kernelspec": {
   "display_name": "Python [conda root]",
   "language": "python",
   "name": "conda-root-py"
  },
  "language_info": {
   "codemirror_mode": {
    "name": "ipython",
    "version": 3
   },
   "file_extension": ".py",
   "mimetype": "text/x-python",
   "name": "python",
   "nbconvert_exporter": "python",
   "pygments_lexer": "ipython3",
   "version": "3.5.2"
  }
 },
 "nbformat": 4,
 "nbformat_minor": 1
}
