{
 "cells": [
  {
   "cell_type": "markdown",
   "metadata": {},
   "source": [
    "# Ranks of Winning Teams"
   ]
  },
  {
   "cell_type": "code",
   "execution_count": 1,
   "metadata": {
    "collapsed": true
   },
   "outputs": [],
   "source": [
    "import numpy\n",
    "import pandas\n",
    "from matplotlib import pyplot as plt\n",
    "import json\n",
    "import time\n",
    "from glob import glob\n",
    "import ast\n",
    "from collections import Counter"
   ]
  },
  {
   "cell_type": "code",
   "execution_count": 2,
   "metadata": {
    "collapsed": true
   },
   "outputs": [],
   "source": [
    "#list of years (one folder per year)\n",
    "years = glob('./data/events/*')\n",
    "\n",
    "#list of events (the event folders are inside those year folders)\n",
    "events = [glob(x+'/*') for x in years]"
   ]
  },
  {
   "cell_type": "code",
   "execution_count": 3,
   "metadata": {
    "collapsed": true
   },
   "outputs": [],
   "source": [
    "#reduce events list to 1D for easier iteration\n",
    "eventlist = []\n",
    "for i in range(len(events)):\n",
    "    eventlist.extend(events[i])"
   ]
  },
  {
   "cell_type": "code",
   "execution_count": 4,
   "metadata": {
    "collapsed": false
   },
   "outputs": [],
   "source": [
    "#make an array of the awards and rankings data for all events\n",
    "eventResults = []\n",
    "\n",
    "for folder in eventlist:\n",
    "\n",
    "    file = glob(folder+'/'+folder[18:]+'_rankings*')[-1]\n",
    "    if len(file) == 0:\n",
    "        continue\n",
    "    with open(file,\"r\",encoding='utf8') as f:\n",
    "        rankings = f.readlines()\n",
    "        rankings = ast.literal_eval(rankings[0])\n",
    "\n",
    "    file = glob(folder+'/'+folder[18:]+'_awards*')[-1]\n",
    "    if len(file) == 0:\n",
    "        continue\n",
    "    with open(file,\"r\",encoding='utf8') as f:\n",
    "        awards = f.readlines()\n",
    "        awards = ast.literal_eval(awards[0])\n",
    "\n",
    "    \n",
    "    if len(awards) == 0 or len(rankings) == 0:\n",
    "        continue\n",
    "    \n",
    "    eventResults.append([awards, rankings])"
   ]
  },
  {
   "cell_type": "code",
   "execution_count": 5,
   "metadata": {
    "collapsed": false
   },
   "outputs": [],
   "source": [
    "#use the awards and rankings data to find the ranks of the 3 winning teams\n",
    "\n",
    "winningrank = []\n",
    "alliancesrank = []\n",
    "\n",
    "for e in range(len(eventResults)):\n",
    "    allianceranks=[]\n",
    "    for i in range(len(eventResults[e][0])):\n",
    "        #awardtype=1 is the event winning alliance\n",
    "        if eventResults[e][0][i]['award_type'] == 1:\n",
    "            team1 = eventResults[e][0][i]['recipient_list'][0]['team_number']\n",
    "            team2 = eventResults[e][0][i]['recipient_list'][1]['team_number']\n",
    "            team3 = eventResults[e][0][i]['recipient_list'][2]['team_number']\n",
    "            for j in range(len(eventResults[e][1])):\n",
    "                if eventResults[e][1][j][1] == str(team1):\n",
    "                    allianceranks.append(int(eventResults[e][1][j][0]))\n",
    "                if eventResults[e][1][j][1] == str(team2):\n",
    "                    allianceranks.append(int(eventResults[e][1][j][0]))\n",
    "                if eventResults[e][1][j][1] == str(team3):\n",
    "                    allianceranks.append(int(eventResults[e][1][j][0]))\n",
    "                \n",
    "                    \n",
    "    winningrank.extend(allianceranks)\n",
    "    alliancesrank.extend([allianceranks])"
   ]
  },
  {
   "cell_type": "code",
   "execution_count": 6,
   "metadata": {
    "collapsed": false
   },
   "outputs": [
    {
     "data": {
      "image/png": "[encoded data removed]",
      "text/plain": [
       "<matplotlib.figure.Figure at 0x1976ea139b0>"
      ]
     },
     "metadata": {},
     "output_type": "display_data"
    }
   ],
   "source": [
    "# plot histogram/bar chart of winning team ranks\n",
    "x = winningrank\n",
    "n, bins, patches = plt.hist(x, 80, facecolor='blue')\n",
    "plt.xlabel('Rank')\n",
    "plt.ylabel('Number of Wins')\n",
    "plt.title('Histogram of Winning Team Ranks')\n",
    "plt.axis([1, 80, 0, 750])\n",
    "plt.grid(True)\n",
    "\n",
    "plt.show()"
   ]
  },
  {
   "cell_type": "code",
   "execution_count": 7,
   "metadata": {
    "collapsed": false
   },
   "outputs": [
    {
     "data": {
      "image/png": "[encoded data removed]",
      "text/plain": [
       "<matplotlib.figure.Figure at 0x1976ea856a0>"
      ]
     },
     "metadata": {},
     "output_type": "display_data"
    }
   ],
   "source": [
    "#box plot of range of alliance ranks in each winning alliance\n",
    "x = [min(r) for r in alliancesrank if len(r)]\n",
    "y = [max(r)-min(r) for r in alliancesrank if len(r)]\n",
    "\n",
    "xs = list(set([min(r) for r in alliancesrank if len(r)]))\n",
    "ys=[]\n",
    "for xi in xs:\n",
    "    ys.append([max(r)-min(r) for r in alliancesrank if len(r) and min(r) == xi])\n",
    "    \n",
    "\n",
    "y_pos = numpy.arange(len(y))\n",
    "\n",
    "fig = plt.figure(1, figsize=(9, 6))\n",
    "ax = fig.add_subplot(111)\n",
    "bp = ax.boxplot(ys)\n",
    "#plt.scatter(x,y)\n",
    "plt.ylabel('range')\n",
    "plt.xlabel('alliance captain rank')\n",
    "plt.title('Range of team ranks of winning allaince')\n",
    "\n",
    "plt.show()"
   ]
  }
 ],
 "metadata": {
  "kernelspec": {
   "display_name": "Python [conda root]",
   "language": "python",
   "name": "conda-root-py"
  },
  "language_info": {
   "codemirror_mode": {
    "name": "ipython",
    "version": 3
   },
   "file_extension": ".py",
   "mimetype": "text/x-python",
   "name": "python",
   "nbconvert_exporter": "python",
   "pygments_lexer": "ipython3",
   "version": "3.5.2"
  }
 },
 "nbformat": 4,
 "nbformat_minor": 1
}
