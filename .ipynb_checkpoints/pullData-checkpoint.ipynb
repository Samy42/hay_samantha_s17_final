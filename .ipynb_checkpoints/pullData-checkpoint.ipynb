{
 "cells": [
  {
   "cell_type": "markdown",
   "metadata": {},
   "source": [
    "# Pull Data from TBA API"
   ]
  },
  {
   "cell_type": "code",
   "execution_count": 1,
   "metadata": {
    "collapsed": false
   },
   "outputs": [],
   "source": [
    "import requests\n",
    "import os\n",
    "import time"
   ]
  },
  {
   "cell_type": "code",
   "execution_count": 2,
   "metadata": {
    "collapsed": true
   },
   "outputs": [],
   "source": [
    "tba = 'https://www.thebluealliance.com/api/v2/'\n",
    "key = '?X-TBA-App-Id=frc1073:samyhomework:0' #this is NOT private, \n",
    "#the API is open, they just asked that I tell them who i am and \n",
    "#what i'm doing with it"
   ]
  },
  {
   "cell_type": "code",
   "execution_count": 6,
   "metadata": {
    "collapsed": true
   },
   "outputs": [],
   "source": [
    "#creates a folder if non exists at that path with that name, otherwise does nothing\n",
    "def addFolder(folderpath):\n",
    "    if not os.path.isdir(folderpath):\n",
    "        os.makedirs(folderpath)"
   ]
  },
  {
   "cell_type": "code",
   "execution_count": 7,
   "metadata": {
    "collapsed": false
   },
   "outputs": [],
   "source": [
    "years = [i for i in range(1992,2018,1)]"
   ]
  },
  {
   "cell_type": "code",
   "execution_count": 9,
   "metadata": {
    "collapsed": false
   },
   "outputs": [],
   "source": [
    "# pull event data\n",
    "for y in years:\n",
    "    \n",
    "    addFolder('./data/events/'+ str(y))\n",
    "    \n",
    "    response = requests.get(tba + 'events/'+ str(y) +key)\n",
    "    events = response.json()\n",
    "    \n",
    "    for e in range(len(events)):\n",
    "        eventname = events[e]['key']\n",
    "        \n",
    "        addFolder('./data/events/'+ str(y) +'/'+ str(eventname))\n",
    "        \n",
    "        #write event info (this DOES NOT CHANGE)\n",
    "        with open('data/events/'+str(y)+'/'+str(eventname)+'/'+str(eventname)+'.json','w+',encoding='utf8') as f:      \n",
    "            f.write(str(events[e]))\n",
    "        \n",
    "        #write event rankings\n",
    "        rankings = requests.get(tba + 'event/'+ str(eventname) + '/rankings' +key)\n",
    "        rankings = rankings.json()\n",
    "        with open('data/events/'+str(y)+'/'+str(eventname)+'/'+str(eventname) + '_rankings_'+ time.strftime(\"%y-%m-%d\")+'.json','w+') as f:      \n",
    "            f.write(str(rankings))\n",
    "            \n",
    "        #write event alliances (THIS DOES NOT CHANGE)\n",
    "        with open('data/events/'+str(y)+'/'+str(eventname)+'/'+str(eventname)+ '_alliances.json','w+',encoding='utf8') as f:      \n",
    "            f.write(str(events[e]['alliances']))\n",
    "            \n",
    "        #write event awards (THIS DOES NOT CHANGE)\n",
    "        awards = requests.get(tba + 'event/'+ str(eventname) + '/awards' +key)\n",
    "        awards = awards.json()\n",
    "        with open('data/events/'+str(y)+'/'+str(eventname)+'/'+str(eventname) + '_awards_'+ time.strftime(\"%y-%m-%d\")+'.json','w+',encoding='utf8') as f:      \n",
    "            f.write(str(awards))"
   ]
  },
  {
   "cell_type": "code",
   "execution_count": 10,
   "metadata": {
    "collapsed": false
   },
   "outputs": [],
   "source": [
    "# pull team data (THIS DOES NOT CHANGE, new teams get added, old ones do not change)\n",
    "page = 0 #500 teams per page\n",
    "\n",
    "addFolder('./data/teams/')\n",
    "\n",
    "while True:\n",
    "    response = requests.get(tba + 'teams/'+ str(page) +key)\n",
    "    teams = response.json()\n",
    "    \n",
    "    if teams == []: #this page is blank so the rest will be blank\n",
    "        break\n",
    "        \n",
    "    for t in range(len(teams)):\n",
    "        teamnumber = teams[t]['team_number']\n",
    "        \n",
    "        with open('data/teams/'+str(teamnumber)+'.json','w+',encoding='utf8') as f:      \n",
    "            f.write(str(teams[t]))\n",
    "            \n",
    "    page = page + 1\n",
    "            \n",
    "        "
   ]
  }
 ],
 "metadata": {
  "anaconda-cloud": {},
  "kernelspec": {
   "display_name": "Python [conda root]",
   "language": "python",
   "name": "conda-root-py"
  },
  "language_info": {
   "codemirror_mode": {
    "name": "ipython",
    "version": 3
   },
   "file_extension": ".py",
   "mimetype": "text/x-python",
   "name": "python",
   "nbconvert_exporter": "python",
   "pygments_lexer": "ipython3",
   "version": "3.5.2"
  }
 },
 "nbformat": 4,
 "nbformat_minor": 1
}
