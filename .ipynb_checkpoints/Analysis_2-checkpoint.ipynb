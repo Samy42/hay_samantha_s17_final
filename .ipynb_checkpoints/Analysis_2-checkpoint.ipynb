{
 "cells": [
  {
   "cell_type": "markdown",
   "metadata": {},
   "source": [
    "# Which Alliances Win?"
   ]
  },
  {
   "cell_type": "code",
   "execution_count": 1,
   "metadata": {
    "collapsed": true
   },
   "outputs": [],
   "source": [
    "import numpy\n",
    "import pandas\n",
    "from matplotlib import pyplot as plt\n",
    "import json\n",
    "import time\n",
    "from glob import glob\n",
    "import ast\n",
    "from collections import Counter"
   ]
  },
  {
   "cell_type": "code",
   "execution_count": 2,
   "metadata": {
    "collapsed": true
   },
   "outputs": [],
   "source": [
    "#list of years (one folder per year)\n",
    "years = glob('./data/events/*')\n",
    "\n",
    "#list of events (the event folders are inside those year folders)\n",
    "events = [glob(x+'/*') for x in years]"
   ]
  },
  {
   "cell_type": "code",
   "execution_count": 3,
   "metadata": {
    "collapsed": true
   },
   "outputs": [],
   "source": [
    "#reduce events list to 1D for easier iteration\n",
    "eventlist = []\n",
    "for i in range(len(events)):\n",
    "    eventlist.extend(events[i])"
   ]
  },
  {
   "cell_type": "code",
   "execution_count": 4,
   "metadata": {
    "collapsed": false
   },
   "outputs": [],
   "source": [
    "#make an array of the awards and alliances data for all events\n",
    "eventResults = []\n",
    "\n",
    "for folder in eventlist:\n",
    "\n",
    "    file = glob(folder+'/'+folder[18:]+'_alliances*')\n",
    "    if len(file) == 0:\n",
    "        continue\n",
    "    with open(file[0],\"r\",encoding='utf8') as f:\n",
    "        alliances = f.readlines()\n",
    "        alliances = ast.literal_eval(alliances[0])\n",
    "\n",
    "    file = glob(folder+'/'+folder[18:]+'_awards*')[-1]\n",
    "    if len(file) == 0:\n",
    "        continue\n",
    "    with open(file,\"r\",encoding='utf8') as f:\n",
    "        awards = f.readlines()\n",
    "        awards = ast.literal_eval(awards[0])\n",
    "\n",
    "    \n",
    "    if len(awards) == 0 or len(alliances) == 0:\n",
    "        continue\n",
    "    \n",
    "    eventResults.append([awards, alliances])\n",
    "    "
   ]
  },
  {
   "cell_type": "code",
   "execution_count": 5,
   "metadata": {
    "collapsed": false
   },
   "outputs": [],
   "source": [
    "#use the award and allainces data to lookup the winning alliance rank\n",
    "winningalliance = []\n",
    "\n",
    "for e in range(len(eventResults)):\n",
    "    for i in range(len(eventResults[e][0])):\n",
    "        \n",
    "        #awardtype=1 is the event winning alliance\n",
    "        if eventResults[e][0][i]['award_type'] == 1:\n",
    "            team = eventResults[e][0][i]['recipient_list'][0]['team_number']\n",
    "            continue\n",
    "            \n",
    "    for i in range(len(eventResults[e][1])):\n",
    "        if ('frc'+str(team)) in eventResults[e][1][i]['picks']:\n",
    "            winningalliance.append(i+1)\n",
    "            continue\n",
    "            \n",
    "        "
   ]
  },
  {
   "cell_type": "code",
   "execution_count": 6,
   "metadata": {
    "collapsed": false
   },
   "outputs": [],
   "source": [
    "#use counter to count the number of each alliance\n",
    "c = Counter(winningalliance)\n",
    "#based on subject knowledge, i know that the frequencies will \n",
    "#always get sorted in order\n",
    "output = c.most_common(8)"
   ]
  },
  {
   "cell_type": "code",
   "execution_count": 7,
   "metadata": {
    "collapsed": false
   },
   "outputs": [
    {
     "data": {
      "image/png": "[encoded data removed]",
      "text/plain": [
       "<matplotlib.figure.Figure at 0x22b6c1cf9b0>"
      ]
     },
     "metadata": {},
     "output_type": "display_data"
    }
   ],
   "source": [
    "#plot the data in a pie chart\n",
    "alliance = [i[0] for i in output]\n",
    "wins = [i[1] for i in output]\n",
    "pie = plt.pie(wins, autopct='%1.1f%%', pctdistance=.9, labeldistance=1)\n",
    "plt.legend(pie[0], alliance, loc=\"best\")\n",
    "plt.axis('equal')\n",
    "plt.tight_layout()\n",
    "plt.title('Percentage of Event Wins by Alliance Rank')\n",
    "\n",
    "plt.show()"
   ]
  }
 ],
 "metadata": {
  "anaconda-cloud": {},
  "kernelspec": {
   "display_name": "Python [conda root]",
   "language": "python",
   "name": "conda-root-py"
  },
  "language_info": {
   "codemirror_mode": {
    "name": "ipython",
    "version": 3
   },
   "file_extension": ".py",
   "mimetype": "text/x-python",
   "name": "python",
   "nbconvert_exporter": "python",
   "pygments_lexer": "ipython3",
   "version": "3.5.2"
  }
 },
 "nbformat": 4,
 "nbformat_minor": 1
}
